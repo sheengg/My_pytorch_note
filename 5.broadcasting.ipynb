{
 "cells": [
  {
   "cell_type": "markdown",
   "metadata": {},
   "source": [
    "# broadcasting 自动扩展\n",
    "expand\n",
    "without copying data"
   ]
  },
  {
   "cell_type": "markdown",
   "metadata": {},
   "source": [
    "#insert 1 dim ahead\n",
    "#expand dims with size 1 to same size\n",
    "#feature maps:[4,32,14,14]\n",
    "#bias:[32,1,1] => [1,32,1,1] => [4,32,14,14]"
   ]
  },
  {
   "cell_type": "code",
   "execution_count": null,
   "metadata": {},
   "outputs": [],
   "source": []
  }
 ],
 "metadata": {
  "kernelspec": {
   "display_name": "Python 3",
   "language": "python",
   "name": "python3"
  },
  "language_info": {
   "codemirror_mode": {
    "name": "ipython",
    "version": 3
   },
   "file_extension": ".py",
   "mimetype": "text/x-python",
   "name": "python",
   "nbconvert_exporter": "python",
   "pygments_lexer": "ipython3",
   "version": "3.7.6"
  }
 },
 "nbformat": 4,
 "nbformat_minor": 4
}
